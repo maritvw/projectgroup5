{
 "cells": [
  {
   "cell_type": "markdown",
   "metadata": {},
   "source": [
    "# Project Group 5 - Long-term trends in travel behavior in the Netherlands\n",
    "\n",
    "Members: \n",
    "Djura Beenen, Daan Boitelle, Marit van Wolffelaar, Lisa Franse en Jord Stubbé\n",
    "\n",
    "Student numbers:\n",
    "5403731, 5646057, 5615666, 5617553 en 4954734\n",
    "\n",
    "Link to the GitHub repositorie: https://github.com/maritvw/projectgroup5"
   ]
  },
  {
   "cell_type": "markdown",
   "metadata": {},
   "source": [
    "# Research Objective\n",
    "\n",
    "Analyze how travel patterns, modal split, and mobility preferences in the Netherlands have evolved over the last decade, and to identify factors driving these changes."
   ]
  },
  {
   "cell_type": "markdown",
   "metadata": {},
   "source": [
    "Subquestion 1 trend analysis per modality: “How has the share of each mobility mode (car, public transport, cycling, walking) changed in the Netherlands between 2018 and 2023?”\n",
    "\n",
    "Subquestion 2 regional differences: “How do mobility mode preferences differ across provinces (e.g., Randstad vs. non-Randstad regions)?”\n",
    "\n",
    "Subquestion 3 travelgoal-specific trends: “How do mobility modes vary depending on travel purpose (work, education, leisure, shopping), and how have these changed over time?”\n"
   ]
  },
  {
   "cell_type": "markdown",
   "metadata": {},
   "source": [
    "# Contribution Statement\n",
    "\n",
    "For now, the data will be collected collectively. The division of tasks will take place after feedback has been received. "
   ]
  },
  {
   "cell_type": "markdown",
   "metadata": {},
   "source": [
    "**Djura Beenen**:\n",
    "\n",
    "**Daan Boitelle**:\n",
    "\n",
    "**Marit van Wolffelaar**:\n",
    "\n",
    "**Lisa Franse**:\n",
    "\n",
    "**Jord Stubbé**:"
   ]
  },
  {
   "cell_type": "markdown",
   "metadata": {},
   "source": [
    "# Data Used"
   ]
  },
  {
   "cell_type": "markdown",
   "metadata": {},
   "source": [
    "The dataset from CBS StatLine provides detailed statistics on mobility patterns in the Netherlands. It includes data on the average number of trips, distance traveled, and time spent per person per day or year, categorized by mode of travel, purpose of travel, and region. This dataset is valuable for analyzing trends in transportation behavior across different provinces and for various travel purposes.\n",
    "https://opendata.cbs.nl/statline/#/CBS/en/dataset/84710ENG/table?ts=1759132886441"
   ]
  },
  {
   "cell_type": "markdown",
   "metadata": {},
   "source": [
    "# Data Pipeline"
   ]
  },
  {
   "cell_type": "markdown",
   "metadata": {},
   "source": [
    "The data are obtained from CBS in the form of CSV files. Subsequently, the relevant subsets are filtered and processed using Python in order to generate visualizations. The analysis covers the period 2018–2023, and conclusions are drawn on the basis of the resulting plots."
   ]
  },
  {
   "cell_type": "code",
   "execution_count": 3,
   "metadata": {},
   "outputs": [],
   "source": [
    "# Import required libraries\n",
    "import pandas as pd\n",
    "import chardet\n",
    "import os"
   ]
  },
  {
   "cell_type": "code",
   "execution_count": 11,
   "metadata": {},
   "outputs": [
    {
     "name": "stdout",
     "output_type": "stream",
     "text": [
      "{'encoding': 'UTF-8-SIG', 'confidence': 1.0, 'language': ''}\n"
     ]
    }
   ],
   "source": [
    "# Detect encoding of the CSV file\n",
    "file = 'per_person__travel_modes__travel_purpose_08102025_094303.csv'\n",
    "with open(file, 'rb') as f:\n",
    "    rawdata = f.read(100000)\n",
    "    result = chardet.detect(rawdata)\n",
    "\n",
    "print(result)\n",
    "\n",
    "# Use the detected encoding to read the file\n",
    "enc = result['encoding']"
   ]
  },
  {
   "cell_type": "code",
   "execution_count": 10,
   "metadata": {},
   "outputs": [
    {
     "name": "stdout",
     "output_type": "stream",
     "text": [
      "Dataset shape: (6240, 9)\n",
      "\n",
      "Column names:\n",
      "['Travel motives', 'Population', 'Travel modes', 'Margins', 'Region characteristics', 'Periods', 'Average per person per year/Trips (number)', 'Average per person per year/Distance travelled    (passenger kilometres )', 'Average per person per year/Time travelled     (hours)']\n",
      "\n",
      "First 5 rows:\n"
     ]
    },
    {
     "data": {
      "text/html": [
       "<div>\n",
       "<style scoped>\n",
       "    .dataframe tbody tr th:only-of-type {\n",
       "        vertical-align: middle;\n",
       "    }\n",
       "\n",
       "    .dataframe tbody tr th {\n",
       "        vertical-align: top;\n",
       "    }\n",
       "\n",
       "    .dataframe thead th {\n",
       "        text-align: right;\n",
       "    }\n",
       "</style>\n",
       "<table border=\"1\" class=\"dataframe\">\n",
       "  <thead>\n",
       "    <tr style=\"text-align: right;\">\n",
       "      <th></th>\n",
       "      <th>Travel motives</th>\n",
       "      <th>Population</th>\n",
       "      <th>Travel modes</th>\n",
       "      <th>Margins</th>\n",
       "      <th>Region characteristics</th>\n",
       "      <th>Periods</th>\n",
       "      <th>Average per person per year/Trips (number)</th>\n",
       "      <th>Average per person per year/Distance travelled    (passenger kilometres )</th>\n",
       "      <th>Average per person per year/Time travelled     (hours)</th>\n",
       "    </tr>\n",
       "  </thead>\n",
       "  <tbody>\n",
       "    <tr>\n",
       "      <th>0</th>\n",
       "      <td>Total</td>\n",
       "      <td>Population 6 years or older</td>\n",
       "      <td>Total</td>\n",
       "      <td>Value</td>\n",
       "      <td>The Netherlands</td>\n",
       "      <td>2018</td>\n",
       "      <td>1015.0</td>\n",
       "      <td>13200.0</td>\n",
       "      <td>453,8</td>\n",
       "    </tr>\n",
       "    <tr>\n",
       "      <th>1</th>\n",
       "      <td>Total</td>\n",
       "      <td>Population 6 years or older</td>\n",
       "      <td>Total</td>\n",
       "      <td>Value</td>\n",
       "      <td>The Netherlands</td>\n",
       "      <td>2019</td>\n",
       "      <td>989.0</td>\n",
       "      <td>13140.0</td>\n",
       "      <td>452,6</td>\n",
       "    </tr>\n",
       "    <tr>\n",
       "      <th>2</th>\n",
       "      <td>Total</td>\n",
       "      <td>Population 6 years or older</td>\n",
       "      <td>Total</td>\n",
       "      <td>Value</td>\n",
       "      <td>The Netherlands</td>\n",
       "      <td>2020</td>\n",
       "      <td>861.0</td>\n",
       "      <td>9105.0</td>\n",
       "      <td>378</td>\n",
       "    </tr>\n",
       "    <tr>\n",
       "      <th>3</th>\n",
       "      <td>Total</td>\n",
       "      <td>Population 6 years or older</td>\n",
       "      <td>Total</td>\n",
       "      <td>Value</td>\n",
       "      <td>The Netherlands</td>\n",
       "      <td>2021</td>\n",
       "      <td>915.0</td>\n",
       "      <td>9942.0</td>\n",
       "      <td>424,9</td>\n",
       "    </tr>\n",
       "    <tr>\n",
       "      <th>4</th>\n",
       "      <td>Total</td>\n",
       "      <td>Population 6 years or older</td>\n",
       "      <td>Total</td>\n",
       "      <td>Value</td>\n",
       "      <td>The Netherlands</td>\n",
       "      <td>2022</td>\n",
       "      <td>984.0</td>\n",
       "      <td>11027.0</td>\n",
       "      <td>442,2</td>\n",
       "    </tr>\n",
       "  </tbody>\n",
       "</table>\n",
       "</div>"
      ],
      "text/plain": [
       "  Travel motives                   Population Travel modes Margins  \\\n",
       "0          Total  Population 6 years or older        Total   Value   \n",
       "1          Total  Population 6 years or older        Total   Value   \n",
       "2          Total  Population 6 years or older        Total   Value   \n",
       "3          Total  Population 6 years or older        Total   Value   \n",
       "4          Total  Population 6 years or older        Total   Value   \n",
       "\n",
       "  Region characteristics  Periods  Average per person per year/Trips (number)  \\\n",
       "0        The Netherlands     2018                                      1015.0   \n",
       "1        The Netherlands     2019                                       989.0   \n",
       "2        The Netherlands     2020                                       861.0   \n",
       "3        The Netherlands     2021                                       915.0   \n",
       "4        The Netherlands     2022                                       984.0   \n",
       "\n",
       "   Average per person per year/Distance travelled    (passenger kilometres )  \\\n",
       "0                                            13200.0                           \n",
       "1                                            13140.0                           \n",
       "2                                             9105.0                           \n",
       "3                                             9942.0                           \n",
       "4                                            11027.0                           \n",
       "\n",
       "  Average per person per year/Time travelled     (hours)  \n",
       "0                                              453,8      \n",
       "1                                              452,6      \n",
       "2                                                378      \n",
       "3                                              424,9      \n",
       "4                                              442,2      "
      ]
     },
     "execution_count": 10,
     "metadata": {},
     "output_type": "execute_result"
    }
   ],
   "source": [
    "# Read the dataset with semicolon separator (common for Dutch CSV files)\n",
    "df = pd.read_csv(file, encoding=enc, sep=';')\n",
    "\n",
    "# Display basic info about the dataset\n",
    "print(\"Dataset shape:\", df.shape)\n",
    "print(\"\\nColumn names:\")\n",
    "print(df.columns.tolist())\n",
    "print(\"\\nFirst 5 rows:\")\n",
    "df.head()"
   ]
  },
  {
   "cell_type": "code",
   "execution_count": null,
   "metadata": {},
   "outputs": [],
   "source": []
  }
 ],
 "metadata": {
  "kernelspec": {
   "display_name": "TIL6022-25",
   "language": "python",
   "name": "python3"
  },
  "language_info": {
   "codemirror_mode": {
    "name": "ipython",
    "version": 3
   },
   "file_extension": ".py",
   "mimetype": "text/x-python",
   "name": "python",
   "nbconvert_exporter": "python",
   "pygments_lexer": "ipython3",
   "version": "3.12.11"
  },
  "orig_nbformat": 4
 },
 "nbformat": 4,
 "nbformat_minor": 2
}
