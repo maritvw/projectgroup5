{
 "cells": [
  {
   "cell_type": "markdown",
   "metadata": {},
   "source": [
    "# Project Group 5 - Long-term trends in travel behavior in the Netherlands\n",
    "\n",
    "Members: \n",
    "Djura Beenen, Daan Boitelle, Marit van Wolffelaar, Lisa Franse en Jord Stubbé\n",
    "\n",
    "Student numbers:\n",
    "5403731, 5646057, 5615666, 5617553 en 4954734\n",
    "\n",
    "Link to the GitHub repositorie: https://github.com/maritvw/projectgroup5"
   ]
  },
  {
   "cell_type": "markdown",
   "metadata": {},
   "source": [
    "# Research Objective\n",
    "\n",
    "Analyze how travel patterns, modal split, and mobility preferences in the Netherlands have evolved over the last decade, and to identify factors driving these changes."
   ]
  },
  {
   "cell_type": "markdown",
   "metadata": {},
   "source": [
    "Subquestion 1 trend analysis per modality: “How has the share of each mobility mode (car, public transport, cycling, walking) changed in the Netherlands between 2018 and 2023?”\n",
    "\n",
    "Subquestion 2 regional differences: “How do mobility mode preferences differ across provinces (e.g., Randstad vs. non-Randstad regions)?”\n",
    "\n",
    "Subquestion 3 travelgoal-specific trends: “How do mobility modes vary depending on travel purpose (work, education, leisure, shopping), and how have these changed over time?”\n"
   ]
  },
  {
   "cell_type": "markdown",
   "metadata": {},
   "source": [
    "# Contribution Statement\n",
    "\n",
    "For now, the data will be collected collectively. The division of tasks will take place after feedback has been received. "
   ]
  },
  {
   "cell_type": "markdown",
   "metadata": {},
   "source": [
    "**Author 1**:\n",
    "\n",
    "**Author 2**:\n",
    "\n",
    "**Author 3**:"
   ]
  },
  {
   "cell_type": "markdown",
   "metadata": {},
   "source": [
    "# Data Used"
   ]
  },
  {
   "cell_type": "markdown",
   "metadata": {},
   "source": [
    "The dataset from CBS StatLine provides detailed statistics on mobility patterns in the Netherlands. It includes data on the average number of trips, distance traveled, and time spent per person per day or year, categorized by mode of travel, purpose of travel, and region. This dataset is valuable for analyzing trends in transportation behavior across different provinces and for various travel purposes.\n",
    "https://opendata.cbs.nl/statline/#/CBS/en/dataset/84710ENG/table?ts=1759132886441"
   ]
  },
  {
   "cell_type": "markdown",
   "metadata": {},
   "source": [
    "# Data Pipeline"
   ]
  },
  {
   "cell_type": "markdown",
   "metadata": {},
   "source": [
    "The data are obtained from CBS in the form of CSV files. Subsequently, the relevant subsets are filtered and processed using Python in order to generate visualizations. The analysis covers the period 2018–2023, and conclusions are drawn on the basis of the resulting plots."
   ]
  }
 ],
 "metadata": {
  "kernelspec": {
   "display_name": "Python 3",
   "language": "python",
   "name": "python3"
  },
  "language_info": {
   "name": "python",
   "version": "3.8.2"
  },
  "orig_nbformat": 4,
  "vscode": {
   "interpreter": {
    "hash": "31f2aee4e71d21fbe5cf8b01ff0e069b9275f58929596ceb00d14d90e3e16cd6"
   }
  }
 },
 "nbformat": 4,
 "nbformat_minor": 2
}
