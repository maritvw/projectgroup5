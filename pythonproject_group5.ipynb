{
 "cells": [
  {
   "cell_type": "markdown",
   "metadata": {},
   "source": [
    "# Project Group 5 - Long-term trends in travel behavior in the Netherlands\n",
    "\n",
    "Members: Djura Beenen, Daan Boitelle, Marit van Wolffelaar, Lisa Franse en Jord Stubbé\n",
    "\n",
    "Student numbers: 4954734, 5403731, 5646057, 5615666 en 5617553\n",
    "\n",
    "\n",
    "Link to the GitHub repositorie: https://github.com/maritvw/projectgroup5"
   ]
  },
  {
   "cell_type": "markdown",
   "metadata": {},
   "source": [
    "# Research Objective\n",
    "\n",
    "Analyze how travel patterns, modal split, and mobility preferences in the Netherlands have evolved over the last decade, and to identify factors driving these changes."
   ]
  },
  {
   "cell_type": "markdown",
   "metadata": {},
   "source": [
    "Subquestion 1 trend analysis per modality: “How has the share of each mobility mode (car, public transport, cycling, walking) changed in the Netherlands between 2018 and 2023?”\n",
    "\n",
    "Subquestion 2 regional differences: “How do mobility mode preferences differ across provinces (e.g., Randstad vs. non-Randstad regions)?”\n",
    "\n",
    "Subquestion 3 travelgoal-specific trends: “How do mobility modes vary depending on travel purpose (work, education, leisure, shopping), and how have these changed over time?”\n"
   ]
  },
  {
   "cell_type": "markdown",
   "metadata": {},
   "source": [
    "# 1. Introduction\n",
    "Over the last couple of years, the world has undergone a lot of changes. The beginning and ending of the global pandemic caused tremendous impact on the public transport system and on travel behaviour in general. Furthermore, shifts in technology and societal habits have influenced why and how people move from A to B. To better understand these changes, this study examines the long-term trends in travel patterns, modal preferences, and mobility choices in the Netherlands between 2018 and 2023.\n",
    "\n",
    "This report researches how the use of different modes of transport have changed over time and if this varies in the different provinces of the Netherlands and the travel purposes. By analyzing data from the Centraal Bureau voor Statistiek, which provides detailed statistics on trips, distances, and travel times, we aim to identify the underlying factors driving these trends. The findings will offer insights into the trends of mobility use in the Netherlands, helping to inform future transport planning and policy decisions.\n"
   ]
  },
  {
   "cell_type": "markdown",
   "metadata": {},
   "source": [
    "# 2. Analysis about mobility modes\n",
    "In the Netherlands, the bicycle remains the most dominant mode of transport in the long term, exhibiting only minor fluctuations over the observed period. This stability reflects the country’s deeply embedded cycling culture, supported by extensive infrastructure and favourable policies. \n",
    "The use of the car showed a slight decline during the COVID-19 pandemic, primarily as a consequence of the widespread shift to working from home. Since 2022, however, car use has gradually increased again. Overall, car dependency remains structurally stable, indicating that the private car continues to play a central role in Dutch mobility patterns despite sustainability concerns.\n",
    "The train experienced a substantial reduction in ridership during the pandemic due to the rise in remote working practices. This behavioural change appears to be structural rather than temporary. Although train use has shown signs of recovery since 2022, levels have not yet returned to those recorded before 2019. The associated loss in fare revenue and service challenges illustrate the long-term impact of changing work patterns on public transport demand.\n",
    "Similarly, bus, tram, and metro modes experienced a significant decline in passenger numbers during the pandemic. Recovery has been gradual, and usage levels remain below those of 2019. This trend suggests a broader shift away from collective modes of transport, particularly for commuting purposes.\n",
    "The share of walking increased during the pandemic, likely as a substitute for other travel modes and as a leisure activity. After 2021, walking levels decreased slightly but remained higher than before the pandemic, suggesting a modest, lasting behavioural change.\n",
    "In conclusion, the bicycle and the car continue to constitute the structurally dominant modes of transport in the Netherlands, while public transport modes, especially rail and urban transit, are still in a phase of gradual recovery from the pandemic’s long-term effects.\n"
   ]
  },
  {
   "cell_type": "markdown",
   "metadata": {},
   "source": [
    "# Contribution Statement\n",
    "\n",
    "For now, the data will be collected collectively. The division of tasks will take place after feedback has been received. "
   ]
  },
  {
   "cell_type": "markdown",
   "metadata": {},
   "source": [
    "**Djura Beenen**:\n",
    "\n",
    "**Daan Boitelle**:\n",
    "\n",
    "**Marit van Wolffelaar**:\n",
    "\n",
    "**Lisa Franse**:\n",
    "\n",
    "**Jord Stubbé**:"
   ]
  },
  {
   "cell_type": "markdown",
   "metadata": {},
   "source": [
    "# Data Used"
   ]
  },
  {
   "cell_type": "markdown",
   "metadata": {},
   "source": [
    "The dataset from CBS StatLine provides detailed statistics on mobility patterns in the Netherlands. It includes data on the average number of trips, distance traveled, and time spent per person per day or year, categorized by mode of travel, purpose of travel, and region. This dataset is valuable for analyzing trends in transportation behavior across different provinces and for various travel purposes. The dataset can be found in the CBS StatLine database through the following link: https://opendata.cbs.nl/statline/#/CBS/en/dataset/84710ENG/table?ts=1759132886441\n",
    "\n",
    "Before cleaning the dataset, a set of filters was applied to include only the relevant observations.\n",
    "\n",
    "Applied data filters:\n",
    "- Population: Population 6 years or older\n",
    "- Margins: Value\n",
    "- Travel motives: All\n",
    "- Travel modes: All\n",
    "- Periods: 2018, 2019, 2020, 2021, 2022, and 2023\n",
    "- Region characteristics: The Netherlands & Provinces\n",
    "- Topic: Average per person per year\n",
    "\n",
    "These filters restrict the dataset to individuals aged six years and older, covering all travel purposes and modes of transport, across the years 2018–2023, per year and disaggregated by the Netherlands and its provinces.\n"
   ]
  },
  {
   "cell_type": "markdown",
   "metadata": {},
   "source": [
    "# Data Pipeline"
   ]
  },
  {
   "cell_type": "markdown",
   "metadata": {},
   "source": [
    "The data are obtained from CBS in the form of CSV files. Subsequently, the relevant subsets are filtered and processed using Python in order to generate visualizations. The analysis covers the period 2018–2023, and conclusions are drawn on the basis of the resulting plots."
   ]
  },
  {
   "cell_type": "markdown",
   "metadata": {},
   "source": [
    "# References "
   ]
  },
  {
   "cell_type": "markdown",
   "metadata": {},
   "source": []
  }
 ],
 "metadata": {
  "kernelspec": {
   "display_name": "TIL6022-25",
   "language": "python",
   "name": "python3"
  },
  "language_info": {
   "codemirror_mode": {
    "name": "ipython",
    "version": 3
   },
   "file_extension": ".py",
   "mimetype": "text/x-python",
   "name": "python",
   "nbconvert_exporter": "python",
   "pygments_lexer": "ipython3",
   "version": "3.12.11"
  },
  "orig_nbformat": 4
 },
 "nbformat": 4,
 "nbformat_minor": 2
}
